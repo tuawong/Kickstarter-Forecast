{
 "cells": [
  {
   "cell_type": "markdown",
   "metadata": {},
   "source": [
    "# Forecasting Kickstarter Crowdfunding Success"
   ]
  },
  {
   "cell_type": "markdown",
   "metadata": {},
   "source": [
    "With the rising popularity for crowdfunding as a source for creative projects, we seek to construct a machine-learning model to forecast the probability of crowdfunding success on [Kickstarter Platform.](https://www.kickstarter.com/) This project is undertaken as a requirement for completion of BAIT509 Business Applications of Machine Learning Course for the Master of Business Analytics Program at the UBC."
   ]
  },
  {
   "cell_type": "markdown",
   "metadata": {},
   "source": [
    "### Dataset"
   ]
  },
  {
   "cell_type": "markdown",
   "metadata": {},
   "source": [
    "We utilized the following data set to construct our model.  The data set is publically availabe on Kaggle.  We utilized the 2018 data set (ks-projects-201801.csv), which is composed of all historical project until end 2017. \n",
    "\n",
    "1. [**Kickstarter Data Set**](https://www.kaggle.com/kemical/kickstarter-projects)"
   ]
  },
  {
   "cell_type": "markdown",
   "metadata": {},
   "source": [
    "### Analytical Package"
   ]
  },
  {
   "cell_type": "markdown",
   "metadata": {},
   "source": [
    "The model is mainly constructed using machine-learning packages from Scikit-Learn with Model Selection implemented through GridsearchCV.   Visualizations are created using Matplotlib and Seaborn packages.  Standard Pandas and Numpy are utilized for data-cleaning.  The complete set of packages utilized along with import command to run the package are below"
   ]
  },
  {
   "cell_type": "markdown",
   "metadata": {},
   "source": [
    "- Scikit-Learn\n",
    "- Matplotlib\n",
    "- Seaborn\n",
    "- Pandas\n",
    "- NumPy"
   ]
  },
  {
   "cell_type": "code",
   "execution_count": null,
   "metadata": {},
   "outputs": [],
   "source": [
    "import numpy as np\n",
    "import pandas as pd\n",
    "import matplotlib.pyplot as plt\n",
    "import seaborn as sns\n",
    "\n",
    "from sklearn.impute import SimpleImputer\n",
    "from sklearn.preprocessing import StandardScaler\n",
    "from sklearn.model_selection import train_test_split, cross_validate\n",
    "from sklearn.model_selection import GridSearchCV\n",
    "from sklearn.pipeline import Pipeline \n",
    "from sklearn.compose import ColumnTransformer\n",
    "from sklearn.preprocessing import OneHotEncoder\n",
    "\n",
    "from sklearn.linear_model import LogisticRegression\n",
    "from sklearn.neighbors import KNeighborsClassifier \n",
    "from sklearn.ensemble import RandomForestClassifier"
   ]
  },
  {
   "cell_type": "markdown",
   "metadata": {},
   "source": [
    "### References"
   ]
  },
  {
   "cell_type": "markdown",
   "metadata": {},
   "source": [
    "For fine-tuning Scikit-learn Pipeline\n",
    " - https://scikit-learn.org/stable/modules/generated/sklearn.pipeline.Pipeline.html"
   ]
  },
  {
   "cell_type": "markdown",
   "metadata": {},
   "source": [
    "### Authors"
   ]
  },
  {
   "cell_type": "markdown",
   "metadata": {},
   "source": [
    "1. [Kemjika Ananaba](https://www.linkedin.com/in/kemjika-ananaba/) - 2020 MBAN Student\n",
    "2. [Elaine (Yi Lei) Ren](https://www.linkedin.com/in/yilei-ren-1a8117138/) - 2020 MBAN Student\n",
    "3. [Tua (Prapon) Wongsangaroonsri](https://www.linkedin.com/in/tua-wong/) - 2020 MBAN Student"
   ]
  }
 ],
 "metadata": {
  "kernelspec": {
   "display_name": "Python 3",
   "language": "python",
   "name": "python3"
  },
  "language_info": {
   "codemirror_mode": {
    "name": "ipython",
    "version": 3
   },
   "file_extension": ".py",
   "mimetype": "text/x-python",
   "name": "python",
   "nbconvert_exporter": "python",
   "pygments_lexer": "ipython3",
   "version": "3.7.3"
  }
 },
 "nbformat": 4,
 "nbformat_minor": 2
}
